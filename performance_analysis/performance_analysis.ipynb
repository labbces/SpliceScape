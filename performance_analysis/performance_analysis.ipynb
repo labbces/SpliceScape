{
 "cells": [
  {
   "cell_type": "markdown",
   "metadata": {},
   "source": [
    "# Pipeline Performance Analysis\n"
   ]
  },
  {
   "cell_type": "markdown",
   "metadata": {},
   "source": [
    "Load necessary libraries and inputs"
   ]
  },
  {
   "cell_type": "code",
   "execution_count": null,
   "metadata": {},
   "outputs": [],
   "source": [
    "library(readr)       # For reading the trace file\n",
    "library(ggplot2)     # For creating plots\n",
    "library(dplyr)       # For data manipulation\n",
    "library(tidyr)       # For reshaping data\n",
    "library(ggpubr)      # For arranging multiple plots\n",
    "library(plotly)      # For interactive plots (optional)\n",
    "library(igraph)      # For creating flowchart visualizations\n",
    "library(ggraph)      # For visualizing graph structures"
   ]
  },
  {
   "cell_type": "code",
   "execution_count": null,
   "metadata": {},
   "outputs": [],
   "source": [
    "\n",
    "# Load trace file and sample info (modify the path accordingly)\n",
    "trace_data <- read_tsv(\"performance_analysis/trace.txt\")\n",
    "# input_data <- read_tsv(\"input_samples.txt\")"
   ]
  },
  {
   "cell_type": "code",
   "execution_count": null,
   "metadata": {},
   "outputs": [],
   "source": [
    "head(trace_data)"
   ]
  },
  {
   "cell_type": "markdown",
   "metadata": {},
   "source": [
    "Data cleaning"
   ]
  },
  {
   "cell_type": "markdown",
   "metadata": {},
   "source": [
    "trace_data <- trace_data %>%\n",
    "  filter(status == \"COMPLETED\") %>%\n",
    "  mutate(norm_execution_time = duration / max(duration))"
   ]
  },
  {
   "cell_type": "markdown",
   "metadata": {},
   "source": [
    "###  Execution Time vs Input Sample Size"
   ]
  },
  {
   "cell_type": "code",
   "execution_count": null,
   "metadata": {},
   "outputs": [],
   "source": [
    "merged_data <- trace_data %>% left_join(input_data, by = \"sample_id\")\n",
    "\n",
    "plot_execution_vs_sample <- ggplot(merged_data, aes(x = sample_size, y = duration, color = name)) +\n",
    "  geom_point() +\n",
    "  geom_smooth(method = \"lm\", se = FALSE) +\n",
    "  theme_minimal() +\n",
    "  labs(title = \"Execution Time vs Input Sample Size\", x = \"Sample Size\", y = \"Execution Time (s)\")\n",
    "\n",
    "# Save and display the plot\n",
    "print(plot_execution_vs_sample)"
   ]
  }
 ],
 "metadata": {
  "language_info": {
   "name": "python"
  }
 },
 "nbformat": 4,
 "nbformat_minor": 2
}
